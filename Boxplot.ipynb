{
 "cells": [
  {
   "cell_type": "code",
   "execution_count": 75,
   "metadata": {},
   "outputs": [],
   "source": [
    "import pandas as pd\n",
    "import numpy as np\n",
    "import matplotlib.pyplot as plt\n",
    "import seaborn as sns\n",
    "import scipy\n",
    "#plt.style.use(\"seaborn-paper\")\n",
    "sns.set(style=\"whitegrid\")\n",
    "\n",
    "filename_pre = 'Result190730/190730_'\n",
    "filename = filename_pre + 'ResultsSummary.xlsx'"
   ]
  },
  {
   "cell_type": "code",
   "execution_count": null,
   "metadata": {},
   "outputs": [],
   "source": []
  },
  {
   "cell_type": "code",
   "execution_count": 65,
   "metadata": {},
   "outputs": [],
   "source": [
    "def comparision(criterion,frequency):\n",
    "    alternative_method_list = ['FARLSTM','FAR','CNN1D','LSTM','MLP','AR','SAR','VAR','lightGBM']\n",
    "    method = 'FARCNN'\n",
    "    level = 'node' #node/type\n",
    "    filename = filename_pre + method + '.xlsx'\n",
    "    sheetname  = frequency + '_' + level + '_average'\n",
    "    df = pd.read_excel(filename,header=0,sheet_name=sheetname)\n",
    "    results = df.loc[:,['Unnamed: 0','node','type',criterion]]\n",
    "    results.columns = ['Node Index','node','type',method]\n",
    "    for method in alternative_method_list:\n",
    "        level = 'node' #node/type\n",
    "        filename = filename_pre + method+'.xlsx'\n",
    "        sheetname  = frequency + '_' + level + '_average'\n",
    "        df = pd.read_excel(filename,header=0,sheet_name=sheetname)\n",
    "        df = df.loc[:,['Unnamed: 0','node','type',criterion]]\n",
    "        df.columns = ['Node Index','node','type',method]\n",
    "        results = pd.merge(results,df,on=['Node Index','node','type'])\n",
    "    results = results.rename(columns={'CNN1D':'CNN','lightGBM':'LightGBM'})\n",
    "    results =  results[['Node Index','node','type','FARCNN','FARLSTM','CNN','LSTM','MLP','AR','SAR','VAR','FAR','LightGBM']]\n",
    "    return results"
   ]
  },
  {
   "cell_type": "code",
   "execution_count": 52,
   "metadata": {},
   "outputs": [],
   "source": [
    "results = comparision('MAPE','Daily')"
   ]
  },
  {
   "cell_type": "code",
   "execution_count": 53,
   "metadata": {},
   "outputs": [
    {
     "data": {
      "text/html": [
       "<div>\n",
       "<style scoped>\n",
       "    .dataframe tbody tr th:only-of-type {\n",
       "        vertical-align: middle;\n",
       "    }\n",
       "\n",
       "    .dataframe tbody tr th {\n",
       "        vertical-align: top;\n",
       "    }\n",
       "\n",
       "    .dataframe thead th {\n",
       "        text-align: right;\n",
       "    }\n",
       "</style>\n",
       "<table border=\"1\" class=\"dataframe\">\n",
       "  <thead>\n",
       "    <tr style=\"text-align: right;\">\n",
       "      <th></th>\n",
       "      <th>AR</th>\n",
       "      <th>CNN</th>\n",
       "      <th>FAR</th>\n",
       "      <th>FARCNN</th>\n",
       "      <th>FARLSTM</th>\n",
       "      <th>LSTM</th>\n",
       "      <th>LightGBM</th>\n",
       "      <th>MLP</th>\n",
       "      <th>SAR</th>\n",
       "      <th>VAR</th>\n",
       "    </tr>\n",
       "    <tr>\n",
       "      <th>type</th>\n",
       "      <th></th>\n",
       "      <th></th>\n",
       "      <th></th>\n",
       "      <th></th>\n",
       "      <th></th>\n",
       "      <th></th>\n",
       "      <th></th>\n",
       "      <th></th>\n",
       "      <th></th>\n",
       "      <th></th>\n",
       "    </tr>\n",
       "  </thead>\n",
       "  <tbody>\n",
       "    <tr>\n",
       "      <th>Border</th>\n",
       "      <td>0.112466</td>\n",
       "      <td>0.123193</td>\n",
       "      <td>0.108773</td>\n",
       "      <td>0.115285</td>\n",
       "      <td>0.156256</td>\n",
       "      <td>0.122376</td>\n",
       "      <td>0.280513</td>\n",
       "      <td>0.257082</td>\n",
       "      <td>0.108626</td>\n",
       "      <td>0.110547</td>\n",
       "    </tr>\n",
       "    <tr>\n",
       "      <th>Industry</th>\n",
       "      <td>0.148886</td>\n",
       "      <td>0.128212</td>\n",
       "      <td>0.134560</td>\n",
       "      <td>0.119304</td>\n",
       "      <td>0.135733</td>\n",
       "      <td>0.127431</td>\n",
       "      <td>0.262856</td>\n",
       "      <td>0.258312</td>\n",
       "      <td>0.140489</td>\n",
       "      <td>0.148959</td>\n",
       "    </tr>\n",
       "    <tr>\n",
       "      <th>Municipal</th>\n",
       "      <td>0.090765</td>\n",
       "      <td>0.091610</td>\n",
       "      <td>0.091203</td>\n",
       "      <td>0.082027</td>\n",
       "      <td>0.153214</td>\n",
       "      <td>0.078936</td>\n",
       "      <td>0.303703</td>\n",
       "      <td>0.367990</td>\n",
       "      <td>0.085447</td>\n",
       "      <td>0.090533</td>\n",
       "    </tr>\n",
       "  </tbody>\n",
       "</table>\n",
       "</div>"
      ],
      "text/plain": [
       "                 AR       CNN       FAR    FARCNN   FARLSTM      LSTM  \\\n",
       "type                                                                    \n",
       "Border     0.112466  0.123193  0.108773  0.115285  0.156256  0.122376   \n",
       "Industry   0.148886  0.128212  0.134560  0.119304  0.135733  0.127431   \n",
       "Municipal  0.090765  0.091610  0.091203  0.082027  0.153214  0.078936   \n",
       "\n",
       "           LightGBM       MLP       SAR       VAR  \n",
       "type                                               \n",
       "Border     0.280513  0.257082  0.108626  0.110547  \n",
       "Industry   0.262856  0.258312  0.140489  0.148959  \n",
       "Municipal  0.303703  0.367990  0.085447  0.090533  "
      ]
     },
     "execution_count": 53,
     "metadata": {},
     "output_type": "execute_result"
    }
   ],
   "source": [
    "# Mean\n",
    "pd.pivot_table(results, index=['type'], aggfunc='mean',values = ['FARCNN','FARLSTM','FAR','CNN','LSTM','MLP','AR','SAR','VAR','LightGBM'])"
   ]
  },
  {
   "cell_type": "code",
   "execution_count": 54,
   "metadata": {},
   "outputs": [
    {
     "data": {
      "text/html": [
       "<div>\n",
       "<style scoped>\n",
       "    .dataframe tbody tr th:only-of-type {\n",
       "        vertical-align: middle;\n",
       "    }\n",
       "\n",
       "    .dataframe tbody tr th {\n",
       "        vertical-align: top;\n",
       "    }\n",
       "\n",
       "    .dataframe thead th {\n",
       "        text-align: right;\n",
       "    }\n",
       "</style>\n",
       "<table border=\"1\" class=\"dataframe\">\n",
       "  <thead>\n",
       "    <tr style=\"text-align: right;\">\n",
       "      <th></th>\n",
       "      <th>AR</th>\n",
       "      <th>CNN</th>\n",
       "      <th>FAR</th>\n",
       "      <th>FARCNN</th>\n",
       "      <th>FARLSTM</th>\n",
       "      <th>LSTM</th>\n",
       "      <th>LightGBM</th>\n",
       "      <th>MLP</th>\n",
       "      <th>SAR</th>\n",
       "      <th>VAR</th>\n",
       "    </tr>\n",
       "    <tr>\n",
       "      <th>type</th>\n",
       "      <th></th>\n",
       "      <th></th>\n",
       "      <th></th>\n",
       "      <th></th>\n",
       "      <th></th>\n",
       "      <th></th>\n",
       "      <th></th>\n",
       "      <th></th>\n",
       "      <th></th>\n",
       "      <th></th>\n",
       "    </tr>\n",
       "  </thead>\n",
       "  <tbody>\n",
       "    <tr>\n",
       "      <th>Border</th>\n",
       "      <td>0.094906</td>\n",
       "      <td>0.110101</td>\n",
       "      <td>0.099140</td>\n",
       "      <td>0.099298</td>\n",
       "      <td>0.137618</td>\n",
       "      <td>0.104981</td>\n",
       "      <td>0.250558</td>\n",
       "      <td>0.180097</td>\n",
       "      <td>0.095805</td>\n",
       "      <td>0.095559</td>\n",
       "    </tr>\n",
       "    <tr>\n",
       "      <th>Industry</th>\n",
       "      <td>0.097102</td>\n",
       "      <td>0.099069</td>\n",
       "      <td>0.093112</td>\n",
       "      <td>0.083709</td>\n",
       "      <td>0.111261</td>\n",
       "      <td>0.080170</td>\n",
       "      <td>0.213416</td>\n",
       "      <td>0.229525</td>\n",
       "      <td>0.092823</td>\n",
       "      <td>0.097427</td>\n",
       "    </tr>\n",
       "    <tr>\n",
       "      <th>Municipal</th>\n",
       "      <td>0.079571</td>\n",
       "      <td>0.078050</td>\n",
       "      <td>0.082463</td>\n",
       "      <td>0.068761</td>\n",
       "      <td>0.080371</td>\n",
       "      <td>0.059289</td>\n",
       "      <td>0.317203</td>\n",
       "      <td>0.389752</td>\n",
       "      <td>0.075677</td>\n",
       "      <td>0.079623</td>\n",
       "    </tr>\n",
       "  </tbody>\n",
       "</table>\n",
       "</div>"
      ],
      "text/plain": [
       "                 AR       CNN       FAR    FARCNN   FARLSTM      LSTM  \\\n",
       "type                                                                    \n",
       "Border     0.094906  0.110101  0.099140  0.099298  0.137618  0.104981   \n",
       "Industry   0.097102  0.099069  0.093112  0.083709  0.111261  0.080170   \n",
       "Municipal  0.079571  0.078050  0.082463  0.068761  0.080371  0.059289   \n",
       "\n",
       "           LightGBM       MLP       SAR       VAR  \n",
       "type                                               \n",
       "Border     0.250558  0.180097  0.095805  0.095559  \n",
       "Industry   0.213416  0.229525  0.092823  0.097427  \n",
       "Municipal  0.317203  0.389752  0.075677  0.079623  "
      ]
     },
     "execution_count": 54,
     "metadata": {},
     "output_type": "execute_result"
    }
   ],
   "source": [
    "# Median\n",
    "pd.pivot_table(results, index=['type'], aggfunc=np.median,values = ['FARCNN','FARLSTM','FAR','CNN','LSTM','MLP','AR','SAR','VAR','LightGBM'])"
   ]
  },
  {
   "cell_type": "code",
   "execution_count": 55,
   "metadata": {},
   "outputs": [
    {
     "data": {
      "text/html": [
       "<div>\n",
       "<style scoped>\n",
       "    .dataframe tbody tr th:only-of-type {\n",
       "        vertical-align: middle;\n",
       "    }\n",
       "\n",
       "    .dataframe tbody tr th {\n",
       "        vertical-align: top;\n",
       "    }\n",
       "\n",
       "    .dataframe thead th {\n",
       "        text-align: right;\n",
       "    }\n",
       "</style>\n",
       "<table border=\"1\" class=\"dataframe\">\n",
       "  <thead>\n",
       "    <tr style=\"text-align: right;\">\n",
       "      <th></th>\n",
       "      <th>AR</th>\n",
       "      <th>CNN</th>\n",
       "      <th>FAR</th>\n",
       "      <th>FARCNN</th>\n",
       "      <th>FARLSTM</th>\n",
       "      <th>LSTM</th>\n",
       "      <th>LightGBM</th>\n",
       "      <th>MLP</th>\n",
       "      <th>SAR</th>\n",
       "      <th>VAR</th>\n",
       "    </tr>\n",
       "    <tr>\n",
       "      <th>type</th>\n",
       "      <th></th>\n",
       "      <th></th>\n",
       "      <th></th>\n",
       "      <th></th>\n",
       "      <th></th>\n",
       "      <th></th>\n",
       "      <th></th>\n",
       "      <th></th>\n",
       "      <th></th>\n",
       "      <th></th>\n",
       "    </tr>\n",
       "  </thead>\n",
       "  <tbody>\n",
       "    <tr>\n",
       "      <th>Border</th>\n",
       "      <td>0.091108</td>\n",
       "      <td>0.099167</td>\n",
       "      <td>0.090716</td>\n",
       "      <td>0.092228</td>\n",
       "      <td>0.136220</td>\n",
       "      <td>0.097603</td>\n",
       "      <td>0.266407</td>\n",
       "      <td>0.212181</td>\n",
       "      <td>0.087242</td>\n",
       "      <td>0.088303</td>\n",
       "    </tr>\n",
       "    <tr>\n",
       "      <th>Industry</th>\n",
       "      <td>0.100169</td>\n",
       "      <td>0.096790</td>\n",
       "      <td>0.094624</td>\n",
       "      <td>0.085883</td>\n",
       "      <td>0.098307</td>\n",
       "      <td>0.086148</td>\n",
       "      <td>0.189231</td>\n",
       "      <td>0.205736</td>\n",
       "      <td>0.095735</td>\n",
       "      <td>0.100106</td>\n",
       "    </tr>\n",
       "    <tr>\n",
       "      <th>Municipal</th>\n",
       "      <td>0.082053</td>\n",
       "      <td>0.082438</td>\n",
       "      <td>0.080715</td>\n",
       "      <td>0.071551</td>\n",
       "      <td>0.088996</td>\n",
       "      <td>0.067848</td>\n",
       "      <td>0.281595</td>\n",
       "      <td>0.346831</td>\n",
       "      <td>0.076737</td>\n",
       "      <td>0.081929</td>\n",
       "    </tr>\n",
       "  </tbody>\n",
       "</table>\n",
       "</div>"
      ],
      "text/plain": [
       "                 AR       CNN       FAR    FARCNN   FARLSTM      LSTM  \\\n",
       "type                                                                    \n",
       "Border     0.091108  0.099167  0.090716  0.092228  0.136220  0.097603   \n",
       "Industry   0.100169  0.096790  0.094624  0.085883  0.098307  0.086148   \n",
       "Municipal  0.082053  0.082438  0.080715  0.071551  0.088996  0.067848   \n",
       "\n",
       "           LightGBM       MLP       SAR       VAR  \n",
       "type                                               \n",
       "Border     0.266407  0.212181  0.087242  0.088303  \n",
       "Industry   0.189231  0.205736  0.095735  0.100106  \n",
       "Municipal  0.281595  0.346831  0.076737  0.081929  "
      ]
     },
     "execution_count": 55,
     "metadata": {},
     "output_type": "execute_result"
    }
   ],
   "source": [
    "# Geometry Mean\n",
    "pd.pivot_table(results, index=['type'],aggfunc=lambda x:np.prod(x)**(1.0/len(x)),values = ['FARCNN','FARLSTM','FAR','CNN','LSTM','MLP','AR','SAR','VAR','LightGBM'])"
   ]
  },
  {
   "cell_type": "code",
   "execution_count": 56,
   "metadata": {},
   "outputs": [
    {
     "data": {
      "text/plain": [
       "Index(['Node Index', 'node', 'type', 'FARCNN', 'FARLSTM', 'CNN', 'LSTM', 'MLP',\n",
       "       'AR', 'SAR', 'VAR', 'FAR', 'LightGBM'],\n",
       "      dtype='object')"
      ]
     },
     "execution_count": 56,
     "metadata": {},
     "output_type": "execute_result"
    }
   ],
   "source": [
    "results.columns"
   ]
  },
  {
   "cell_type": "code",
   "execution_count": 57,
   "metadata": {},
   "outputs": [
    {
     "data": {
      "text/plain": [
       "Node Index    45.500000\n",
       "FARCNN         0.072376\n",
       "FARLSTM        0.086242\n",
       "CNN            0.081623\n",
       "LSTM           0.064379\n",
       "MLP            0.367831\n",
       "AR             0.082106\n",
       "SAR            0.077883\n",
       "VAR            0.081569\n",
       "FAR            0.082932\n",
       "LightGBM       0.288088\n",
       "dtype: float64"
      ]
     },
     "execution_count": 57,
     "metadata": {},
     "output_type": "execute_result"
    }
   ],
   "source": [
    "results.median()"
   ]
  },
  {
   "cell_type": "code",
   "execution_count": 58,
   "metadata": {},
   "outputs": [],
   "source": [
    "results.loc[results['type'] == 'Industry','type'] = 'Plant'"
   ]
  },
  {
   "cell_type": "code",
   "execution_count": 59,
   "metadata": {},
   "outputs": [
    {
     "data": {
      "text/html": [
       "<div>\n",
       "<style scoped>\n",
       "    .dataframe tbody tr th:only-of-type {\n",
       "        vertical-align: middle;\n",
       "    }\n",
       "\n",
       "    .dataframe tbody tr th {\n",
       "        vertical-align: top;\n",
       "    }\n",
       "\n",
       "    .dataframe thead th {\n",
       "        text-align: right;\n",
       "    }\n",
       "</style>\n",
       "<table border=\"1\" class=\"dataframe\">\n",
       "  <thead>\n",
       "    <tr style=\"text-align: right;\">\n",
       "      <th></th>\n",
       "      <th>Node Index</th>\n",
       "      <th>node</th>\n",
       "      <th>type</th>\n",
       "      <th>FARCNN</th>\n",
       "      <th>FARLSTM</th>\n",
       "      <th>CNN</th>\n",
       "      <th>LSTM</th>\n",
       "      <th>MLP</th>\n",
       "      <th>AR</th>\n",
       "      <th>SAR</th>\n",
       "      <th>VAR</th>\n",
       "      <th>FAR</th>\n",
       "      <th>LightGBM</th>\n",
       "    </tr>\n",
       "  </thead>\n",
       "  <tbody>\n",
       "    <tr>\n",
       "      <th>0</th>\n",
       "      <td>0</td>\n",
       "      <td>S1335949845</td>\n",
       "      <td>Municipal</td>\n",
       "      <td>0.048971</td>\n",
       "      <td>0.050041</td>\n",
       "      <td>0.069246</td>\n",
       "      <td>0.051777</td>\n",
       "      <td>0.168705</td>\n",
       "      <td>0.061954</td>\n",
       "      <td>0.057654</td>\n",
       "      <td>0.062179</td>\n",
       "      <td>0.058019</td>\n",
       "      <td>0.149096</td>\n",
       "    </tr>\n",
       "    <tr>\n",
       "      <th>1</th>\n",
       "      <td>1</td>\n",
       "      <td>S1808946565</td>\n",
       "      <td>Plant</td>\n",
       "      <td>0.252399</td>\n",
       "      <td>0.337917</td>\n",
       "      <td>0.268491</td>\n",
       "      <td>0.300948</td>\n",
       "      <td>0.333819</td>\n",
       "      <td>0.262713</td>\n",
       "      <td>0.284816</td>\n",
       "      <td>0.258182</td>\n",
       "      <td>0.287771</td>\n",
       "      <td>0.422103</td>\n",
       "    </tr>\n",
       "    <tr>\n",
       "      <th>2</th>\n",
       "      <td>2</td>\n",
       "      <td>S1877081582</td>\n",
       "      <td>Border</td>\n",
       "      <td>0.174083</td>\n",
       "      <td>0.263449</td>\n",
       "      <td>0.167087</td>\n",
       "      <td>0.222939</td>\n",
       "      <td>0.308853</td>\n",
       "      <td>0.178582</td>\n",
       "      <td>0.173494</td>\n",
       "      <td>0.192099</td>\n",
       "      <td>0.153510</td>\n",
       "      <td>0.272033</td>\n",
       "    </tr>\n",
       "    <tr>\n",
       "      <th>3</th>\n",
       "      <td>3</td>\n",
       "      <td>S2936071850</td>\n",
       "      <td>Municipal</td>\n",
       "      <td>0.118477</td>\n",
       "      <td>0.146700</td>\n",
       "      <td>0.110041</td>\n",
       "      <td>0.102981</td>\n",
       "      <td>0.189039</td>\n",
       "      <td>0.110883</td>\n",
       "      <td>0.116800</td>\n",
       "      <td>0.111090</td>\n",
       "      <td>0.126326</td>\n",
       "      <td>0.166944</td>\n",
       "    </tr>\n",
       "    <tr>\n",
       "      <th>4</th>\n",
       "      <td>4</td>\n",
       "      <td>S322229464</td>\n",
       "      <td>Plant</td>\n",
       "      <td>0.166814</td>\n",
       "      <td>0.174734</td>\n",
       "      <td>0.139648</td>\n",
       "      <td>0.118235</td>\n",
       "      <td>0.316194</td>\n",
       "      <td>0.186086</td>\n",
       "      <td>0.176950</td>\n",
       "      <td>0.186824</td>\n",
       "      <td>0.214305</td>\n",
       "      <td>0.260876</td>\n",
       "    </tr>\n",
       "  </tbody>\n",
       "</table>\n",
       "</div>"
      ],
      "text/plain": [
       "   Node Index         node       type    FARCNN   FARLSTM       CNN      LSTM  \\\n",
       "0           0  S1335949845  Municipal  0.048971  0.050041  0.069246  0.051777   \n",
       "1           1  S1808946565      Plant  0.252399  0.337917  0.268491  0.300948   \n",
       "2           2  S1877081582     Border  0.174083  0.263449  0.167087  0.222939   \n",
       "3           3  S2936071850  Municipal  0.118477  0.146700  0.110041  0.102981   \n",
       "4           4   S322229464      Plant  0.166814  0.174734  0.139648  0.118235   \n",
       "\n",
       "        MLP        AR       SAR       VAR       FAR  LightGBM  \n",
       "0  0.168705  0.061954  0.057654  0.062179  0.058019  0.149096  \n",
       "1  0.333819  0.262713  0.284816  0.258182  0.287771  0.422103  \n",
       "2  0.308853  0.178582  0.173494  0.192099  0.153510  0.272033  \n",
       "3  0.189039  0.110883  0.116800  0.111090  0.126326  0.166944  \n",
       "4  0.316194  0.186086  0.176950  0.186824  0.214305  0.260876  "
      ]
     },
     "execution_count": 59,
     "metadata": {},
     "output_type": "execute_result"
    }
   ],
   "source": [
    "results.head()"
   ]
  },
  {
   "cell_type": "code",
   "execution_count": 73,
   "metadata": {},
   "outputs": [],
   "source": [
    "def box_plots(results,frequency):\n",
    "    \n",
    "    type_list = ['Border','Plant','Municipal']\n",
    "    for types in type_list:\n",
    "        subtype = results[results['type'] == types]\n",
    "        subtype_result = subtype.iloc[:,3:]\n",
    "\n",
    "        boxplot_GAP = subtype_result.values\n",
    "        labels = subtype_result.columns.values\n",
    "        print(labels)\n",
    "\n",
    "        # plt.boxplot(boxplot_GAP, labels=labels,showmeans=True,vert = False,showfliers=False)\n",
    "        # plt.xlim(-0.005,0.7)\n",
    "        # plt.axvline(0.1,linestyle='-.',alpha=0.5)\n",
    "        # plt.show();\n",
    "\n",
    "        medianprops = dict(linewidth=2.5)\n",
    "        plt.boxplot(boxplot_GAP, labels=labels,showmeans=True,vert = False,showfliers=False,medianprops= medianprops)\n",
    "        plt.xlim(-0.005,0.7)\n",
    "        #plt.axvline(0.1,linestyle='-.',alpha=0.5)\n",
    "        plt.title(\"%s %s MAPE\"%(types,frequency))\n",
    "        plt.yticks(fontweight='bold')\n",
    "        #plt.axvline(Municipal_result.mean().mean())\n",
    "        plt.tight_layout()\n",
    "        plt.savefig(\"Graph/Boxplot%s%s\"%(types,frequency))\n",
    "        plt.show();\n",
    "        \n",
    "#         medianprops = dict(linestyle='-.', linewidth=2.5, color='firebrick')\n",
    "#         medianpointprops = dict(marker='o', markeredgecolor='black',markerfacecolor='firebrick',linestyle='none',markersize=12)\n",
    "#         #meanlineprops = dict(linestyle='--', linewidth=2.5, color='purple')\n",
    "#         meanlineprops = dict(linestyle='--', color='green')\n",
    "#         flierprops = dict(marker='+', markersize=3)\n",
    "#         plt.boxplot(boxplot_GAP,flierprops=flierprops,patch_artist= True,labels=labels,showmeans=True,vert = False,showfliers=False,medianprops= medianprops)#,meanprops=meanlineprops, meanline=True)\n",
    "#         #plt.xlim(-0.2,6)\n",
    "#         plt.xlabel('Hourly MAPE')\n",
    "#         plt.show();"
   ]
  },
  {
   "cell_type": "code",
   "execution_count": 76,
   "metadata": {},
   "outputs": [
    {
     "name": "stdout",
     "output_type": "stream",
     "text": [
      "['FARCNN' 'FARLSTM' 'CNN' 'LSTM' 'MLP' 'AR' 'SAR' 'VAR' 'FAR' 'LightGBM']\n"
     ]
    },
    {
     "data": {
      "image/png": "[encoded data removed]",
      "text/plain": [
       "<Figure size 460.8x316.8 with 1 Axes>"
      ]
     },
     "metadata": {},
     "output_type": "display_data"
    },
    {
     "name": "stdout",
     "output_type": "stream",
     "text": [
      "['FARCNN' 'FARLSTM' 'CNN' 'LSTM' 'MLP' 'AR' 'SAR' 'VAR' 'FAR' 'LightGBM']\n"
     ]
    },
    {
     "data": {
      "image/png": "[encoded data removed]",
      "text/plain": [
       "<Figure size 460.8x316.8 with 1 Axes>"
      ]
     },
     "metadata": {},
     "output_type": "display_data"
    },
    {
     "name": "stdout",
     "output_type": "stream",
     "text": [
      "['FARCNN' 'FARLSTM' 'CNN' 'LSTM' 'MLP' 'AR' 'SAR' 'VAR' 'FAR' 'LightGBM']\n"
     ]
    },
    {
     "data": {
      "image/png": "[encoded data removed]",
      "text/plain": [
       "<Figure size 460.8x316.8 with 1 Axes>"
      ]
     },
     "metadata": {},
     "output_type": "display_data"
    }
   ],
   "source": [
    "box_plots(results,'Daily')"
   ]
  },
  {
   "cell_type": "code",
   "execution_count": null,
   "metadata": {},
   "outputs": [],
   "source": []
  },
  {
   "cell_type": "code",
   "execution_count": null,
   "metadata": {},
   "outputs": [],
   "source": []
  },
  {
   "cell_type": "code",
   "execution_count": null,
   "metadata": {},
   "outputs": [],
   "source": []
  }
 ],
 "metadata": {
  "kernelspec": {
   "display_name": "Python 3",
   "language": "python",
   "name": "python3"
  },
  "language_info": {
   "codemirror_mode": {
    "name": "ipython",
    "version": 3
   },
   "file_extension": ".py",
   "mimetype": "text/x-python",
   "name": "python",
   "nbconvert_exporter": "python",
   "pygments_lexer": "ipython3",
   "version": "3.7.3"
  }
 },
 "nbformat": 4,
 "nbformat_minor": 2
}
