{
 "cells": [
  {
   "cell_type": "code",
   "execution_count": 1,
   "metadata": {},
   "outputs": [],
   "source": [
    "import pandas as pd\n",
    "import numpy as np"
   ]
  },
  {
   "cell_type": "code",
   "execution_count": 2,
   "metadata": {},
   "outputs": [
    {
     "data": {
      "text/html": [
       "<div>\n",
       "<style scoped>\n",
       "    .dataframe tbody tr th:only-of-type {\n",
       "        vertical-align: middle;\n",
       "    }\n",
       "\n",
       "    .dataframe tbody tr th {\n",
       "        vertical-align: top;\n",
       "    }\n",
       "\n",
       "    .dataframe thead th {\n",
       "        text-align: right;\n",
       "    }\n",
       "</style>\n",
       "<table border=\"1\" class=\"dataframe\">\n",
       "  <thead>\n",
       "    <tr style=\"text-align: right;\">\n",
       "      <th></th>\n",
       "      <th>node</th>\n",
       "      <th>day</th>\n",
       "      <th>hour</th>\n",
       "      <th>flow</th>\n",
       "      <th>alias</th>\n",
       "    </tr>\n",
       "  </thead>\n",
       "  <tbody>\n",
       "    <tr>\n",
       "      <th>0</th>\n",
       "      <td>T2147491989</td>\n",
       "      <td>2016/4/18</td>\n",
       "      <td>1</td>\n",
       "      <td>-7110.0</td>\n",
       "      <td>WABA</td>\n",
       "    </tr>\n",
       "    <tr>\n",
       "      <th>1</th>\n",
       "      <td>T2147491989</td>\n",
       "      <td>2016/4/18</td>\n",
       "      <td>2</td>\n",
       "      <td>-7110.0</td>\n",
       "      <td>WABA</td>\n",
       "    </tr>\n",
       "    <tr>\n",
       "      <th>2</th>\n",
       "      <td>T2147491989</td>\n",
       "      <td>2016/4/18</td>\n",
       "      <td>3</td>\n",
       "      <td>-7110.0</td>\n",
       "      <td>WABA</td>\n",
       "    </tr>\n",
       "    <tr>\n",
       "      <th>3</th>\n",
       "      <td>T2147491989</td>\n",
       "      <td>2016/4/18</td>\n",
       "      <td>4</td>\n",
       "      <td>-7110.0</td>\n",
       "      <td>WABA</td>\n",
       "    </tr>\n",
       "    <tr>\n",
       "      <th>4</th>\n",
       "      <td>T2147491989</td>\n",
       "      <td>2016/4/18</td>\n",
       "      <td>5</td>\n",
       "      <td>-7110.0</td>\n",
       "      <td>WABA</td>\n",
       "    </tr>\n",
       "  </tbody>\n",
       "</table>\n",
       "</div>"
      ],
      "text/plain": [
       "          node        day  hour    flow alias\n",
       "0  T2147491989  2016/4/18     1 -7110.0  WABA\n",
       "1  T2147491989  2016/4/18     2 -7110.0  WABA\n",
       "2  T2147491989  2016/4/18     3 -7110.0  WABA\n",
       "3  T2147491989  2016/4/18     4 -7110.0  WABA\n",
       "4  T2147491989  2016/4/18     5 -7110.0  WABA"
      ]
     },
     "execution_count": 2,
     "metadata": {},
     "output_type": "execute_result"
    }
   ],
   "source": [
    "dataset = pd.read_csv('./data/node4.csv',header =0)#,sep='\\t')\n",
    "dataset.head()"
   ]
  },
  {
   "cell_type": "code",
   "execution_count": 27,
   "metadata": {},
   "outputs": [
    {
     "data": {
      "text/plain": [
       "4080"
      ]
     },
     "execution_count": 27,
     "metadata": {},
     "output_type": "execute_result"
    }
   ],
   "source": [
    "flow = dataset['flow'].values\n",
    "len(flow)\n",
    "\n",
    "flow_reshape = flow.reshape((len(flow)//24,24))\n",
    "\n",
    "flow_reshape = flow_reshape.T\n",
    "\n",
    "flow_reshape.shape\n",
    "\n",
    "# with open(\"node4_reshape.csv\", 'ab') as f1:\n",
    "#     np.savetxt(f1, flow_reshape,delimiter=\",\")    \n",
    "   "
   ]
  },
  {
   "cell_type": "code",
   "execution_count": null,
   "metadata": {},
   "outputs": [],
   "source": []
  }
 ],
 "metadata": {
  "kernelspec": {
   "display_name": "Python 3",
   "language": "python",
   "name": "python3"
  },
  "language_info": {
   "codemirror_mode": {
    "name": "ipython",
    "version": 3
   },
   "file_extension": ".py",
   "mimetype": "text/x-python",
   "name": "python",
   "nbconvert_exporter": "python",
   "pygments_lexer": "ipython3",
   "version": "3.7.3"
  }
 },
 "nbformat": 4,
 "nbformat_minor": 2
}
